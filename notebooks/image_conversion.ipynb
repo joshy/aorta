{
 "cells": [
  {
   "cell_type": "markdown",
   "metadata": {},
   "source": [
    "## Convert to PNG Greyscale images"
   ]
  },
  {
   "cell_type": "code",
   "execution_count": null,
   "metadata": {},
   "outputs": [],
   "source": [
    "import sys\n",
    "import glob\n",
    "import matplotlib.pyplot as plt\n",
    "%matplotlib inline\n",
    "import numpy as np\n",
    "import nibabel as nib\n",
    "sys.path.append('../src')"
   ]
  },
  {
   "cell_type": "code",
   "execution_count": null,
   "metadata": {},
   "outputs": [],
   "source": [
    "aorta = '../data/**/**/**/aorta*'\n",
    "cine = '../data/**/**/**/4Ch*'\n",
    "image_pairs = list(zip(glob.glob(cine), glob.glob(aorta)))"
   ]
  },
  {
   "cell_type": "code",
   "execution_count": null,
   "metadata": {},
   "outputs": [],
   "source": [
    "def get_image(file):\n",
    "    nifti = nib.load(file)\n",
    "    image_data = nifti.get_data()\n",
    "    slice = image_data[:, :, 0].T\n",
    "    return slice"
   ]
  },
  {
   "cell_type": "code",
   "execution_count": null,
   "metadata": {},
   "outputs": [],
   "source": [
    "image_pairs[0]"
   ]
  },
  {
   "cell_type": "code",
   "execution_count": null,
   "metadata": {},
   "outputs": [],
   "source": [
    "c0 = get_image(image_pairs[0][0])\n",
    "plt.imshow(c0,cmap='gray')"
   ]
  },
  {
   "cell_type": "code",
   "execution_count": null,
   "metadata": {},
   "outputs": [],
   "source": [
    "norm = plt.Normalize(vmin=c0.min(), vmax=c0.max())\n",
    "cmap = plt.cm.gray\n",
    "image = cmap(norm(c0))\n",
    "plt.imsave('c0.png', image)"
   ]
  },
  {
   "cell_type": "code",
   "execution_count": null,
   "metadata": {},
   "outputs": [],
   "source": [
    "image_pairs[0][0]"
   ]
  },
  {
   "cell_type": "code",
   "execution_count": null,
   "metadata": {},
   "outputs": [],
   "source": [
    "from pathlib import Path\n",
    "Path(image_pairs[0][0]).parent"
   ]
  },
  {
   "cell_type": "code",
   "execution_count": null,
   "metadata": {},
   "outputs": [],
   "source": [
    "def show_pair(pair):\n",
    "    image = get_image(pair[0])\n",
    "    mask = get_image(pair[1])\n",
    "    f, (ax1, ax2) = plt.subplots(1, 2, sharey=True, figsize=(8,8))\n",
    "    ax1.imshow(image)\n",
    "    ax1.set_title('Image')\n",
    "    ax2.imshow(mask)\n",
    "    ax2.set_title('Mask')"
   ]
  },
  {
   "cell_type": "code",
   "execution_count": null,
   "metadata": {},
   "outputs": [],
   "source": [
    "show_pair(image_pairs[0])"
   ]
  },
  {
   "cell_type": "code",
   "execution_count": null,
   "metadata": {},
   "outputs": [],
   "source": [
    "def convert(pair):\n",
    "    parent_dir = Path(pair[0]).parent\n",
    "    print(parent_dir)\n",
    "    image = get_image(pair[0])\n",
    "    mask = get_image(pair[1])\n",
    "    image_norm = plt.Normalize(vmin=image.min(), vmax=image.max())\n",
    "    mask_norm = plt.Normalize(vmin=mask.min(), vmax=mask.max())\n",
    "    cmap = plt.cm.gray\n",
    "    image = cmap(image_norm(image))\n",
    "    mask = cmap(mask_norm(mask))\n",
    "    plt.imsave(parent_dir / 'image.png', image)\n",
    "    plt.imsave(parent_dir / 'mask.png', mask)"
   ]
  },
  {
   "cell_type": "code",
   "execution_count": null,
   "metadata": {},
   "outputs": [],
   "source": [
    "convert(image_pairs[0])"
   ]
  },
  {
   "cell_type": "code",
   "execution_count": null,
   "metadata": {},
   "outputs": [],
   "source": [
    "for i in image_pairs:\n",
    "    convert(i)"
   ]
  },
  {
   "cell_type": "code",
   "execution_count": null,
   "metadata": {},
   "outputs": [],
   "source": [
    "from skimage import io, transform\n",
    "image_pairs"
   ]
  },
  {
   "cell_type": "code",
   "execution_count": null,
   "metadata": {},
   "outputs": [],
   "source": [
    "aorta = '../data/**/**/**/mask*.png'\n",
    "cine = '../data/**/**/**/image*.png'\n",
    "new_image_pairs = list(zip(glob.glob(cine), glob.glob(aorta)))"
   ]
  },
  {
   "cell_type": "code",
   "execution_count": null,
   "metadata": {},
   "outputs": [],
   "source": [
    "data = io.imread(new_image_pairs[0][0], as_grey=True)"
   ]
  },
  {
   "cell_type": "code",
   "execution_count": null,
   "metadata": {},
   "outputs": [],
   "source": [
    "data.shape"
   ]
  },
  {
   "cell_type": "code",
   "execution_count": null,
   "metadata": {},
   "outputs": [],
   "source": [
    "\n"
   ]
  }
 ],
 "metadata": {
  "kernelspec": {
   "display_name": "Python [default]",
   "language": "python",
   "name": "python3"
  },
  "language_info": {
   "codemirror_mode": {
    "name": "ipython",
    "version": 3
   },
   "file_extension": ".py",
   "mimetype": "text/x-python",
   "name": "python",
   "nbconvert_exporter": "python",
   "pygments_lexer": "ipython3",
   "version": "3.6.5"
  }
 },
 "nbformat": 4,
 "nbformat_minor": 2
}
