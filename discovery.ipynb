{
 "cells": [
  {
   "cell_type": "code",
   "execution_count": null,
   "metadata": {},
   "outputs": [],
   "source": [
    "import os\n",
    "import glob\n",
    "import nibabel as nib\n",
    "import numpy as np\n",
    "import matplotlib.pyplot as plt\n",
    "%matplotlib inline"
   ]
  },
  {
   "cell_type": "code",
   "execution_count": null,
   "metadata": {},
   "outputs": [],
   "source": [
    "# file system structure is\n",
    "# data\n",
    "# -- Patient\n",
    "# ----- Accession + Date \n",
    "# -------- 4Ch_cine file\n",
    "# -------- aorta mask file"
   ]
  },
  {
   "cell_type": "code",
   "execution_count": null,
   "metadata": {},
   "outputs": [],
   "source": [
    "data_path = 'data'\n",
    "aorta = './data/**/**/aorta*'\n",
    "cine = './data/**/**/4Ch*'\n",
    "pairs = list(zip(glob.glob(aorta), glob.glob(cine)))\n",
    "print('Segmentations',len(pairs))"
   ]
  },
  {
   "cell_type": "code",
   "execution_count": null,
   "metadata": {},
   "outputs": [],
   "source": [
    "def get_zero_slice(image_file):\n",
    "    img = nib.load(image_file)\n",
    "    img_data = img.get_data()\n",
    "    return img_data[:,:,0].T"
   ]
  },
  {
   "cell_type": "code",
   "execution_count": null,
   "metadata": {},
   "outputs": [],
   "source": [
    "def show_image_and_mask(pair):\n",
    "    mask_file, image_file = pair \n",
    "    first_slice = get_zero_slice(image_file)\n",
    "    mask_slice = get_zero_slice(mask_file)\n",
    "    f, (ax1, ax2) = plt.subplots(1, 2, sharey=True)\n",
    "    ax1.imshow(first_slice)\n",
    "    ax1.set_title('MRI Image')\n",
    "    ax2.imshow(mask_slice)\n",
    "    ax2.set_title('Aorta Mask')"
   ]
  },
  {
   "cell_type": "code",
   "execution_count": null,
   "metadata": {},
   "outputs": [],
   "source": [
    "show_image_and_mask(pairs[16])"
   ]
  }
 ],
 "metadata": {
  "kernelspec": {
   "display_name": "Python 3",
   "language": "python",
   "name": "python3"
  },
  "language_info": {
   "codemirror_mode": {
    "name": "ipython",
    "version": 3
   },
   "file_extension": ".py",
   "mimetype": "text/x-python",
   "name": "python",
   "nbconvert_exporter": "python",
   "pygments_lexer": "ipython3",
   "version": "3.6.5"
  }
 },
 "nbformat": 4,
 "nbformat_minor": 2
}
